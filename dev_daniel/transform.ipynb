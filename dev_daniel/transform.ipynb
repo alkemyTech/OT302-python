{
 "cells": [
  {
   "cell_type": "code",
   "execution_count": 356,
   "metadata": {},
   "outputs": [],
   "source": [
    "import pandas as pd\n",
    "from pandas_profiling import ProfileReport"
   ]
  },
  {
   "cell_type": "code",
   "execution_count": 454,
   "metadata": {},
   "outputs": [],
   "source": [
    "df_moron = pd.read_csv('data/Universidad-nacional-de-río-cuarto.csv')"
   ]
  },
  {
   "cell_type": "code",
   "execution_count": 418,
   "metadata": {},
   "outputs": [],
   "source": [
    "def normalize(x:str) -> str:\n",
    "\n",
    "    return x.strip().lower().replace('-',' ')\n",
    "df_moron['first_name'] = df_moron['first_name'].apply(normalize)"
   ]
  },
  {
   "cell_type": "code",
   "execution_count": null,
   "metadata": {},
   "outputs": [],
   "source": [
    "def clean_full_name(full_name:list) -> list:\n",
    "\n",
    "    for element in full_name:\n",
    "        if len(element) == 4:\n",
    "            element.pop(0)\n",
    "            element.pop()\n",
    "\n",
    "        elif len(element) == 3:\n",
    "            if '.' in element[0]:\n",
    "                element.pop(0)\n",
    "            else:\n",
    "                element.pop()\n",
    "                \n",
    "    return full_name"
   ]
  },
  {
   "cell_type": "code",
   "execution_count": 419,
   "metadata": {},
   "outputs": [
    {
     "data": {
      "text/plain": [
       "university          Universidad-nacional-de-río-cuarto\n",
       "career                   Licenciatura-en-musicoterapia\n",
       "inscription_date                             21/Jan/21\n",
       "first_name                          mrs. teresa lucero\n",
       "gender                                               F\n",
       "age                                          40/Feb/21\n",
       "location                                     El-retiro\n",
       "email                               Iwoods@hotmail.com\n",
       "Name: 423, dtype: object"
      ]
     },
     "execution_count": 419,
     "metadata": {},
     "output_type": "execute_result"
    }
   ],
   "source": [
    "df_moron.iloc[423]"
   ]
  },
  {
   "cell_type": "code",
   "execution_count": 358,
   "metadata": {},
   "outputs": [
    {
     "name": "stdout",
     "output_type": "stream",
     "text": [
      "<class 'pandas.core.frame.DataFrame'>\n",
      "RangeIndex: 1838 entries, 0 to 1837\n",
      "Data columns (total 8 columns):\n",
      " #   Column            Non-Null Count  Dtype \n",
      "---  ------            --------------  ----- \n",
      " 0   university        1838 non-null   object\n",
      " 1   career            1838 non-null   object\n",
      " 2   inscription_date  1838 non-null   object\n",
      " 3   first_name        1838 non-null   object\n",
      " 4   gender            1838 non-null   object\n",
      " 5   age               1838 non-null   object\n",
      " 6   location          1838 non-null   object\n",
      " 7   email             1838 non-null   object\n",
      "dtypes: object(8)\n",
      "memory usage: 115.0+ KB\n"
     ]
    }
   ],
   "source": [
    "df_moron.info()"
   ]
  },
  {
   "cell_type": "code",
   "execution_count": 359,
   "metadata": {},
   "outputs": [],
   "source": [
    "def normalize(x):\n",
    "    return x.strip().lower()"
   ]
  },
  {
   "cell_type": "code",
   "execution_count": 360,
   "metadata": {},
   "outputs": [],
   "source": [
    "df_moron[\"full_name\"] = df_moron[\"first_name\"]\n",
    "# df_moron[\"full_name\"] = df_moron[\"full_name\"].apply(lambda x: x.strip().lower())\n",
    "df_moron[\"full_name\"] = df_moron[\"full_name\"].apply(normalize)"
   ]
  },
  {
   "cell_type": "code",
   "execution_count": 361,
   "metadata": {},
   "outputs": [],
   "source": [
    "splitted = df_moron[\"full_name\"].apply(lambda x: x.split(\"-\"))"
   ]
  },
  {
   "cell_type": "code",
   "execution_count": 362,
   "metadata": {},
   "outputs": [
    {
     "name": "stdout",
     "output_type": "stream",
     "text": [
      "len=3, pos -1:  md\n",
      "len=3, pos 0:  mr.\n",
      "len=3, pos -1:  jr.\n",
      "len=3, pos -1:  jr.\n",
      "len=3, pos -1:  md\n",
      "len=3, pos 0:  mr.\n",
      "len=3, pos 0:  mrs.\n",
      "len=3, pos 0:  dr.\n",
      "len=3, pos -1:  dvm\n",
      "len=3, pos -1:  md\n",
      "len=3, pos 0:  dr.\n",
      "len=3, pos -1:  dds\n",
      "len=3, pos -1:  dds\n",
      "len=3, pos 0:  mrs.\n",
      "len=3, pos 0:  dr.\n",
      "len=3, pos 0:  ms.\n",
      "len=3, pos -1:  phd\n",
      "len=3, pos -1:  md\n",
      "len=3, pos -1:  dvm\n",
      "len=3, pos 0:  dr.\n",
      "len=3, pos 0:  mr.\n",
      "len=3, pos 0:  dr.\n",
      "len=4, pos 0:  mrs.\n",
      "len=4, pos -1:  phd\n",
      "len=3, pos -1:  md\n",
      "len=4, pos 0:  mr.\n",
      "len=4, pos -1:  jr.\n",
      "len=4, pos 0:  miss\n",
      "len=4, pos -1:  md\n",
      "len=3, pos -1:  jr.\n",
      "len=3, pos -1:  dvm\n",
      "len=3, pos 0:  mrs.\n",
      "len=3, pos -1:  md\n",
      "len=3, pos 0:  dr.\n",
      "len=3, pos 0:  mr.\n",
      "len=3, pos 0:  mr.\n",
      "len=3, pos -1:  dds\n",
      "len=3, pos -1:  jr.\n",
      "len=3, pos -1:  jr.\n",
      "len=3, pos -1:  dds\n",
      "len=3, pos -1:  md\n",
      "len=3, pos 0:  dr.\n",
      "len=3, pos -1:  md\n",
      "len=3, pos -1:  dds\n",
      "len=3, pos -1:  dds\n",
      "len=4, pos 0:  mrs.\n",
      "len=4, pos -1:  dvm\n",
      "len=3, pos -1:  md\n",
      "len=3, pos -1:  md\n",
      "len=3, pos -1:  md\n",
      "len=3, pos -1:  dds\n",
      "len=3, pos 0:  mrs.\n",
      "len=3, pos 0:  dr.\n",
      "len=4, pos 0:  mrs.\n",
      "len=4, pos -1:  md\n",
      "len=3, pos -1:  phd\n",
      "len=3, pos 0:  mr.\n",
      "len=3, pos -1:  md\n",
      "len=3, pos -1:  md\n",
      "len=3, pos -1:  dvm\n",
      "len=4, pos 0:  mrs.\n",
      "len=4, pos -1:  md\n",
      "len=3, pos 0:  dr.\n",
      "len=3, pos -1:  dvm\n",
      "len=3, pos 0:  dr.\n",
      "len=3, pos -1:  md\n",
      "len=3, pos -1:  md\n",
      "len=3, pos -1:  md\n",
      "len=3, pos -1:  md\n"
     ]
    }
   ],
   "source": [
    "for element in splitted:\n",
    "    if len(element) == 4:\n",
    "        # element.pop(0)\n",
    "        # element.pop()\n",
    "        print(\"len=4, pos 0: \",element[0])\n",
    "        print(\"len=4, pos -1: \",element[-1])\n",
    "\n",
    "    elif len(element) == 3:\n",
    "        if '.' in element[0]:\n",
    "            # element.pop(0)\n",
    "            print(\"len=3, pos 0: \",element[0])\n",
    "        else:\n",
    "            # element.pop()\n",
    "            print(\"len=3, pos -1: \",element[-1])"
   ]
  },
  {
   "cell_type": "code",
   "execution_count": 363,
   "metadata": {},
   "outputs": [],
   "source": [
    "def clean_full_name(splitted:list):\n",
    "    for element in splitted:\n",
    "        if len(element) == 4:\n",
    "            element.pop(0)\n",
    "            element.pop()\n",
    "            # print(\"len=4, pos 0: \",element[0])\n",
    "            # print(\"len=4, pos -1: \",element[-1])\n",
    "\n",
    "        elif len(element) == 3:\n",
    "            if '.' in element[0]:\n",
    "                element.pop(0)\n",
    "                # print(\"len=3, pos 0: \",element[0])\n",
    "            else:\n",
    "                element.pop()\n",
    "                # print(\"len=3, pos -1: \",element[-1])\n",
    "    return splitted"
   ]
  },
  {
   "cell_type": "code",
   "execution_count": 364,
   "metadata": {},
   "outputs": [],
   "source": [
    "splitted = clean_full_name(splitted)"
   ]
  },
  {
   "cell_type": "code",
   "execution_count": 365,
   "metadata": {},
   "outputs": [],
   "source": [
    "df_moron[\"first_name\"] = splitted.apply(lambda x: x[0])"
   ]
  },
  {
   "cell_type": "code",
   "execution_count": 366,
   "metadata": {},
   "outputs": [
    {
     "data": {
      "text/html": [
       "<div>\n",
       "<style scoped>\n",
       "    .dataframe tbody tr th:only-of-type {\n",
       "        vertical-align: middle;\n",
       "    }\n",
       "\n",
       "    .dataframe tbody tr th {\n",
       "        vertical-align: top;\n",
       "    }\n",
       "\n",
       "    .dataframe thead th {\n",
       "        text-align: right;\n",
       "    }\n",
       "</style>\n",
       "<table border=\"1\" class=\"dataframe\">\n",
       "  <thead>\n",
       "    <tr style=\"text-align: right;\">\n",
       "      <th></th>\n",
       "      <th>university</th>\n",
       "      <th>career</th>\n",
       "      <th>inscription_date</th>\n",
       "      <th>first_name</th>\n",
       "      <th>gender</th>\n",
       "      <th>age</th>\n",
       "      <th>location</th>\n",
       "      <th>email</th>\n",
       "      <th>full_name</th>\n",
       "    </tr>\n",
       "  </thead>\n",
       "  <tbody>\n",
       "    <tr>\n",
       "      <th>0</th>\n",
       "      <td>Universidad-nacional-de-río-cuarto</td>\n",
       "      <td>Licenciatura-en-musicoterapia</td>\n",
       "      <td>20/Dec/29</td>\n",
       "      <td>austin</td>\n",
       "      <td>M</td>\n",
       "      <td>19/Sep/06</td>\n",
       "      <td>12-de-agosto</td>\n",
       "      <td>Amycurtis@hotmail.com</td>\n",
       "      <td>austin-norris</td>\n",
       "    </tr>\n",
       "    <tr>\n",
       "      <th>1</th>\n",
       "      <td>Universidad-nacional-de-río-cuarto</td>\n",
       "      <td>Farmacia</td>\n",
       "      <td>20/Oct/28</td>\n",
       "      <td>tyler</td>\n",
       "      <td>M</td>\n",
       "      <td>33/May/26</td>\n",
       "      <td>Matheu</td>\n",
       "      <td>Usmith@yahoo.com</td>\n",
       "      <td>tyler-owens</td>\n",
       "    </tr>\n",
       "    <tr>\n",
       "      <th>2</th>\n",
       "      <td>Universidad-nacional-de-río-cuarto</td>\n",
       "      <td>Ingeniería-mecánica</td>\n",
       "      <td>21/Jan/26</td>\n",
       "      <td>donna</td>\n",
       "      <td>F</td>\n",
       "      <td>42/Apr/03</td>\n",
       "      <td>General-gutierrez</td>\n",
       "      <td>Angelrollins@gmail.com</td>\n",
       "      <td>donna-hess</td>\n",
       "    </tr>\n",
       "    <tr>\n",
       "      <th>3</th>\n",
       "      <td>Universidad-nacional-de-río-cuarto</td>\n",
       "      <td>Licenciatura-en-terapia-ocupacional</td>\n",
       "      <td>20/Oct/12</td>\n",
       "      <td>john</td>\n",
       "      <td>M</td>\n",
       "      <td>06/Jan/01</td>\n",
       "      <td>Aconquija</td>\n",
       "      <td>Jamesho@yahoo.com</td>\n",
       "      <td>john-gonzales</td>\n",
       "    </tr>\n",
       "    <tr>\n",
       "      <th>4</th>\n",
       "      <td>Universidad-nacional-de-río-cuarto</td>\n",
       "      <td>Ingeniería-en-informática</td>\n",
       "      <td>21/Jan/15</td>\n",
       "      <td>michael</td>\n",
       "      <td>M</td>\n",
       "      <td>95/Mar/07</td>\n",
       "      <td>Chelforo</td>\n",
       "      <td>Laura64@yahoo.com</td>\n",
       "      <td>michael-smith</td>\n",
       "    </tr>\n",
       "    <tr>\n",
       "      <th>...</th>\n",
       "      <td>...</td>\n",
       "      <td>...</td>\n",
       "      <td>...</td>\n",
       "      <td>...</td>\n",
       "      <td>...</td>\n",
       "      <td>...</td>\n",
       "      <td>...</td>\n",
       "      <td>...</td>\n",
       "      <td>...</td>\n",
       "    </tr>\n",
       "    <tr>\n",
       "      <th>1833</th>\n",
       "      <td>Universidad-nacional-de-río-cuarto</td>\n",
       "      <td>Licenciatura-en-ciencia-y-tecnología-de-alimentos</td>\n",
       "      <td>21/Jan/24</td>\n",
       "      <td>erika</td>\n",
       "      <td>F</td>\n",
       "      <td>88/Jul/03</td>\n",
       "      <td>Maori</td>\n",
       "      <td>Bennettanthony@yahoo.com</td>\n",
       "      <td>erika-lee</td>\n",
       "    </tr>\n",
       "    <tr>\n",
       "      <th>1834</th>\n",
       "      <td>Universidad-nacional-de-río-cuarto</td>\n",
       "      <td>Licenciatura-en-ciencias-ambientales</td>\n",
       "      <td>20/Nov/22</td>\n",
       "      <td>adam</td>\n",
       "      <td>M</td>\n",
       "      <td>07/Aug/31</td>\n",
       "      <td>Buena-vista</td>\n",
       "      <td>James12@hotmail.com</td>\n",
       "      <td>adam-brown</td>\n",
       "    </tr>\n",
       "    <tr>\n",
       "      <th>1835</th>\n",
       "      <td>Universidad-nacional-de-río-cuarto</td>\n",
       "      <td>Licenciatura-en-ciencia-política-</td>\n",
       "      <td>20/Sep/15</td>\n",
       "      <td>willie</td>\n",
       "      <td>M</td>\n",
       "      <td>64/May/24</td>\n",
       "      <td>Bahia-langara</td>\n",
       "      <td>Adamskimberly@hotmail.com</td>\n",
       "      <td>willie-gordon</td>\n",
       "    </tr>\n",
       "    <tr>\n",
       "      <th>1836</th>\n",
       "      <td>Universidad-nacional-de-río-cuarto</td>\n",
       "      <td>Licenciatura-en-ciencias-biológicas</td>\n",
       "      <td>21/Jan/10</td>\n",
       "      <td>victoria</td>\n",
       "      <td>F</td>\n",
       "      <td>11/Nov/05</td>\n",
       "      <td>Agustoni</td>\n",
       "      <td>Nicolehenderson@gmail.com</td>\n",
       "      <td>victoria-duran</td>\n",
       "    </tr>\n",
       "    <tr>\n",
       "      <th>1837</th>\n",
       "      <td>Universidad-nacional-de-río-cuarto</td>\n",
       "      <td>Farmacia</td>\n",
       "      <td>20/Sep/21</td>\n",
       "      <td>brad</td>\n",
       "      <td>M</td>\n",
       "      <td>44/Jun/19</td>\n",
       "      <td>Monte-chingolo</td>\n",
       "      <td>Laurenkennedy@hotmail.com</td>\n",
       "      <td>brad-vega</td>\n",
       "    </tr>\n",
       "  </tbody>\n",
       "</table>\n",
       "<p>1838 rows × 9 columns</p>\n",
       "</div>"
      ],
      "text/plain": [
       "                              university  \\\n",
       "0     Universidad-nacional-de-río-cuarto   \n",
       "1     Universidad-nacional-de-río-cuarto   \n",
       "2     Universidad-nacional-de-río-cuarto   \n",
       "3     Universidad-nacional-de-río-cuarto   \n",
       "4     Universidad-nacional-de-río-cuarto   \n",
       "...                                  ...   \n",
       "1833  Universidad-nacional-de-río-cuarto   \n",
       "1834  Universidad-nacional-de-río-cuarto   \n",
       "1835  Universidad-nacional-de-río-cuarto   \n",
       "1836  Universidad-nacional-de-río-cuarto   \n",
       "1837  Universidad-nacional-de-río-cuarto   \n",
       "\n",
       "                                                 career inscription_date  \\\n",
       "0                         Licenciatura-en-musicoterapia        20/Dec/29   \n",
       "1                                              Farmacia        20/Oct/28   \n",
       "2                                   Ingeniería-mecánica        21/Jan/26   \n",
       "3                   Licenciatura-en-terapia-ocupacional        20/Oct/12   \n",
       "4                             Ingeniería-en-informática        21/Jan/15   \n",
       "...                                                 ...              ...   \n",
       "1833  Licenciatura-en-ciencia-y-tecnología-de-alimentos        21/Jan/24   \n",
       "1834               Licenciatura-en-ciencias-ambientales        20/Nov/22   \n",
       "1835                  Licenciatura-en-ciencia-política-        20/Sep/15   \n",
       "1836                Licenciatura-en-ciencias-biológicas        21/Jan/10   \n",
       "1837                                           Farmacia        20/Sep/21   \n",
       "\n",
       "     first_name gender        age           location  \\\n",
       "0        austin      M  19/Sep/06       12-de-agosto   \n",
       "1         tyler      M  33/May/26             Matheu   \n",
       "2         donna      F  42/Apr/03  General-gutierrez   \n",
       "3          john      M  06/Jan/01          Aconquija   \n",
       "4       michael      M  95/Mar/07           Chelforo   \n",
       "...         ...    ...        ...                ...   \n",
       "1833      erika      F  88/Jul/03              Maori   \n",
       "1834       adam      M  07/Aug/31        Buena-vista   \n",
       "1835     willie      M  64/May/24      Bahia-langara   \n",
       "1836   victoria      F  11/Nov/05           Agustoni   \n",
       "1837       brad      M  44/Jun/19     Monte-chingolo   \n",
       "\n",
       "                          email       full_name  \n",
       "0         Amycurtis@hotmail.com   austin-norris  \n",
       "1              Usmith@yahoo.com     tyler-owens  \n",
       "2        Angelrollins@gmail.com      donna-hess  \n",
       "3             Jamesho@yahoo.com   john-gonzales  \n",
       "4             Laura64@yahoo.com   michael-smith  \n",
       "...                         ...             ...  \n",
       "1833   Bennettanthony@yahoo.com       erika-lee  \n",
       "1834        James12@hotmail.com      adam-brown  \n",
       "1835  Adamskimberly@hotmail.com   willie-gordon  \n",
       "1836  Nicolehenderson@gmail.com  victoria-duran  \n",
       "1837  Laurenkennedy@hotmail.com       brad-vega  \n",
       "\n",
       "[1838 rows x 9 columns]"
      ]
     },
     "execution_count": 366,
     "metadata": {},
     "output_type": "execute_result"
    }
   ],
   "source": [
    "df_moron"
   ]
  },
  {
   "cell_type": "code",
   "execution_count": 367,
   "metadata": {},
   "outputs": [],
   "source": [
    "df_moron[\"last_name\"] = splitted.apply(lambda x: x[1])"
   ]
  },
  {
   "cell_type": "code",
   "execution_count": 368,
   "metadata": {},
   "outputs": [],
   "source": [
    "df_moron.drop(columns=\"full_name\",inplace=True)"
   ]
  },
  {
   "cell_type": "code",
   "execution_count": 369,
   "metadata": {},
   "outputs": [],
   "source": [
    "cols = df_moron.columns.to_list()"
   ]
  },
  {
   "cell_type": "code",
   "execution_count": 370,
   "metadata": {},
   "outputs": [],
   "source": [
    "# cols = cols[:]\n",
    "cols = cols[:4] + cols[-1:] + cols[4:-1]"
   ]
  },
  {
   "cell_type": "code",
   "execution_count": 371,
   "metadata": {},
   "outputs": [
    {
     "data": {
      "text/plain": [
       "['university',\n",
       " 'career',\n",
       " 'inscription_date',\n",
       " 'first_name',\n",
       " 'last_name',\n",
       " 'gender',\n",
       " 'age',\n",
       " 'location',\n",
       " 'email']"
      ]
     },
     "execution_count": 371,
     "metadata": {},
     "output_type": "execute_result"
    }
   ],
   "source": [
    "cols"
   ]
  },
  {
   "cell_type": "code",
   "execution_count": 372,
   "metadata": {},
   "outputs": [],
   "source": [
    "df_moron = df_moron[cols]"
   ]
  },
  {
   "cell_type": "code",
   "execution_count": 373,
   "metadata": {},
   "outputs": [
    {
     "data": {
      "text/html": [
       "<div>\n",
       "<style scoped>\n",
       "    .dataframe tbody tr th:only-of-type {\n",
       "        vertical-align: middle;\n",
       "    }\n",
       "\n",
       "    .dataframe tbody tr th {\n",
       "        vertical-align: top;\n",
       "    }\n",
       "\n",
       "    .dataframe thead th {\n",
       "        text-align: right;\n",
       "    }\n",
       "</style>\n",
       "<table border=\"1\" class=\"dataframe\">\n",
       "  <thead>\n",
       "    <tr style=\"text-align: right;\">\n",
       "      <th></th>\n",
       "      <th>university</th>\n",
       "      <th>career</th>\n",
       "      <th>inscription_date</th>\n",
       "      <th>first_name</th>\n",
       "      <th>last_name</th>\n",
       "      <th>gender</th>\n",
       "      <th>age</th>\n",
       "      <th>location</th>\n",
       "      <th>email</th>\n",
       "    </tr>\n",
       "  </thead>\n",
       "  <tbody>\n",
       "    <tr>\n",
       "      <th>0</th>\n",
       "      <td>Universidad-nacional-de-río-cuarto</td>\n",
       "      <td>Licenciatura-en-musicoterapia</td>\n",
       "      <td>20/Dec/29</td>\n",
       "      <td>austin</td>\n",
       "      <td>norris</td>\n",
       "      <td>M</td>\n",
       "      <td>19/Sep/06</td>\n",
       "      <td>12-de-agosto</td>\n",
       "      <td>Amycurtis@hotmail.com</td>\n",
       "    </tr>\n",
       "    <tr>\n",
       "      <th>1</th>\n",
       "      <td>Universidad-nacional-de-río-cuarto</td>\n",
       "      <td>Farmacia</td>\n",
       "      <td>20/Oct/28</td>\n",
       "      <td>tyler</td>\n",
       "      <td>owens</td>\n",
       "      <td>M</td>\n",
       "      <td>33/May/26</td>\n",
       "      <td>Matheu</td>\n",
       "      <td>Usmith@yahoo.com</td>\n",
       "    </tr>\n",
       "    <tr>\n",
       "      <th>2</th>\n",
       "      <td>Universidad-nacional-de-río-cuarto</td>\n",
       "      <td>Ingeniería-mecánica</td>\n",
       "      <td>21/Jan/26</td>\n",
       "      <td>donna</td>\n",
       "      <td>hess</td>\n",
       "      <td>F</td>\n",
       "      <td>42/Apr/03</td>\n",
       "      <td>General-gutierrez</td>\n",
       "      <td>Angelrollins@gmail.com</td>\n",
       "    </tr>\n",
       "    <tr>\n",
       "      <th>3</th>\n",
       "      <td>Universidad-nacional-de-río-cuarto</td>\n",
       "      <td>Licenciatura-en-terapia-ocupacional</td>\n",
       "      <td>20/Oct/12</td>\n",
       "      <td>john</td>\n",
       "      <td>gonzales</td>\n",
       "      <td>M</td>\n",
       "      <td>06/Jan/01</td>\n",
       "      <td>Aconquija</td>\n",
       "      <td>Jamesho@yahoo.com</td>\n",
       "    </tr>\n",
       "    <tr>\n",
       "      <th>4</th>\n",
       "      <td>Universidad-nacional-de-río-cuarto</td>\n",
       "      <td>Ingeniería-en-informática</td>\n",
       "      <td>21/Jan/15</td>\n",
       "      <td>michael</td>\n",
       "      <td>smith</td>\n",
       "      <td>M</td>\n",
       "      <td>95/Mar/07</td>\n",
       "      <td>Chelforo</td>\n",
       "      <td>Laura64@yahoo.com</td>\n",
       "    </tr>\n",
       "    <tr>\n",
       "      <th>...</th>\n",
       "      <td>...</td>\n",
       "      <td>...</td>\n",
       "      <td>...</td>\n",
       "      <td>...</td>\n",
       "      <td>...</td>\n",
       "      <td>...</td>\n",
       "      <td>...</td>\n",
       "      <td>...</td>\n",
       "      <td>...</td>\n",
       "    </tr>\n",
       "    <tr>\n",
       "      <th>1833</th>\n",
       "      <td>Universidad-nacional-de-río-cuarto</td>\n",
       "      <td>Licenciatura-en-ciencia-y-tecnología-de-alimentos</td>\n",
       "      <td>21/Jan/24</td>\n",
       "      <td>erika</td>\n",
       "      <td>lee</td>\n",
       "      <td>F</td>\n",
       "      <td>88/Jul/03</td>\n",
       "      <td>Maori</td>\n",
       "      <td>Bennettanthony@yahoo.com</td>\n",
       "    </tr>\n",
       "    <tr>\n",
       "      <th>1834</th>\n",
       "      <td>Universidad-nacional-de-río-cuarto</td>\n",
       "      <td>Licenciatura-en-ciencias-ambientales</td>\n",
       "      <td>20/Nov/22</td>\n",
       "      <td>adam</td>\n",
       "      <td>brown</td>\n",
       "      <td>M</td>\n",
       "      <td>07/Aug/31</td>\n",
       "      <td>Buena-vista</td>\n",
       "      <td>James12@hotmail.com</td>\n",
       "    </tr>\n",
       "    <tr>\n",
       "      <th>1835</th>\n",
       "      <td>Universidad-nacional-de-río-cuarto</td>\n",
       "      <td>Licenciatura-en-ciencia-política-</td>\n",
       "      <td>20/Sep/15</td>\n",
       "      <td>willie</td>\n",
       "      <td>gordon</td>\n",
       "      <td>M</td>\n",
       "      <td>64/May/24</td>\n",
       "      <td>Bahia-langara</td>\n",
       "      <td>Adamskimberly@hotmail.com</td>\n",
       "    </tr>\n",
       "    <tr>\n",
       "      <th>1836</th>\n",
       "      <td>Universidad-nacional-de-río-cuarto</td>\n",
       "      <td>Licenciatura-en-ciencias-biológicas</td>\n",
       "      <td>21/Jan/10</td>\n",
       "      <td>victoria</td>\n",
       "      <td>duran</td>\n",
       "      <td>F</td>\n",
       "      <td>11/Nov/05</td>\n",
       "      <td>Agustoni</td>\n",
       "      <td>Nicolehenderson@gmail.com</td>\n",
       "    </tr>\n",
       "    <tr>\n",
       "      <th>1837</th>\n",
       "      <td>Universidad-nacional-de-río-cuarto</td>\n",
       "      <td>Farmacia</td>\n",
       "      <td>20/Sep/21</td>\n",
       "      <td>brad</td>\n",
       "      <td>vega</td>\n",
       "      <td>M</td>\n",
       "      <td>44/Jun/19</td>\n",
       "      <td>Monte-chingolo</td>\n",
       "      <td>Laurenkennedy@hotmail.com</td>\n",
       "    </tr>\n",
       "  </tbody>\n",
       "</table>\n",
       "<p>1838 rows × 9 columns</p>\n",
       "</div>"
      ],
      "text/plain": [
       "                              university  \\\n",
       "0     Universidad-nacional-de-río-cuarto   \n",
       "1     Universidad-nacional-de-río-cuarto   \n",
       "2     Universidad-nacional-de-río-cuarto   \n",
       "3     Universidad-nacional-de-río-cuarto   \n",
       "4     Universidad-nacional-de-río-cuarto   \n",
       "...                                  ...   \n",
       "1833  Universidad-nacional-de-río-cuarto   \n",
       "1834  Universidad-nacional-de-río-cuarto   \n",
       "1835  Universidad-nacional-de-río-cuarto   \n",
       "1836  Universidad-nacional-de-río-cuarto   \n",
       "1837  Universidad-nacional-de-río-cuarto   \n",
       "\n",
       "                                                 career inscription_date  \\\n",
       "0                         Licenciatura-en-musicoterapia        20/Dec/29   \n",
       "1                                              Farmacia        20/Oct/28   \n",
       "2                                   Ingeniería-mecánica        21/Jan/26   \n",
       "3                   Licenciatura-en-terapia-ocupacional        20/Oct/12   \n",
       "4                             Ingeniería-en-informática        21/Jan/15   \n",
       "...                                                 ...              ...   \n",
       "1833  Licenciatura-en-ciencia-y-tecnología-de-alimentos        21/Jan/24   \n",
       "1834               Licenciatura-en-ciencias-ambientales        20/Nov/22   \n",
       "1835                  Licenciatura-en-ciencia-política-        20/Sep/15   \n",
       "1836                Licenciatura-en-ciencias-biológicas        21/Jan/10   \n",
       "1837                                           Farmacia        20/Sep/21   \n",
       "\n",
       "     first_name last_name gender        age           location  \\\n",
       "0        austin    norris      M  19/Sep/06       12-de-agosto   \n",
       "1         tyler     owens      M  33/May/26             Matheu   \n",
       "2         donna      hess      F  42/Apr/03  General-gutierrez   \n",
       "3          john  gonzales      M  06/Jan/01          Aconquija   \n",
       "4       michael     smith      M  95/Mar/07           Chelforo   \n",
       "...         ...       ...    ...        ...                ...   \n",
       "1833      erika       lee      F  88/Jul/03              Maori   \n",
       "1834       adam     brown      M  07/Aug/31        Buena-vista   \n",
       "1835     willie    gordon      M  64/May/24      Bahia-langara   \n",
       "1836   victoria     duran      F  11/Nov/05           Agustoni   \n",
       "1837       brad      vega      M  44/Jun/19     Monte-chingolo   \n",
       "\n",
       "                          email  \n",
       "0         Amycurtis@hotmail.com  \n",
       "1              Usmith@yahoo.com  \n",
       "2        Angelrollins@gmail.com  \n",
       "3             Jamesho@yahoo.com  \n",
       "4             Laura64@yahoo.com  \n",
       "...                         ...  \n",
       "1833   Bennettanthony@yahoo.com  \n",
       "1834        James12@hotmail.com  \n",
       "1835  Adamskimberly@hotmail.com  \n",
       "1836  Nicolehenderson@gmail.com  \n",
       "1837  Laurenkennedy@hotmail.com  \n",
       "\n",
       "[1838 rows x 9 columns]"
      ]
     },
     "execution_count": 373,
     "metadata": {},
     "output_type": "execute_result"
    }
   ],
   "source": [
    "df_moron"
   ]
  },
  {
   "cell_type": "code",
   "execution_count": 374,
   "metadata": {},
   "outputs": [],
   "source": [
    "prof = ProfileReport(df_moron)"
   ]
  },
  {
   "cell_type": "code",
   "execution_count": 375,
   "metadata": {},
   "outputs": [],
   "source": [
    "# prof"
   ]
  },
  {
   "cell_type": "code",
   "execution_count": 376,
   "metadata": {},
   "outputs": [
    {
     "data": {
      "text/plain": [
       "'smith'"
      ]
     },
     "execution_count": 376,
     "metadata": {},
     "output_type": "execute_result"
    }
   ],
   "source": [
    "df_moron[\"last_name\"][4]"
   ]
  },
  {
   "cell_type": "code",
   "execution_count": 384,
   "metadata": {},
   "outputs": [],
   "source": [
    "name = \"moron\""
   ]
  },
  {
   "cell_type": "code",
   "execution_count": 385,
   "metadata": {},
   "outputs": [],
   "source": [
    "x = \"\" if name == 'moron' else '-'"
   ]
  },
  {
   "cell_type": "code",
   "execution_count": 386,
   "metadata": {},
   "outputs": [
    {
     "data": {
      "text/plain": [
       "''"
      ]
     },
     "execution_count": 386,
     "metadata": {},
     "output_type": "execute_result"
    }
   ],
   "source": [
    "x"
   ]
  },
  {
   "cell_type": "code",
   "execution_count": 412,
   "metadata": {},
   "outputs": [
    {
     "name": "stdout",
     "output_type": "stream",
     "text": [
      "a: a b c d e f\n",
      "b: a b c d e f\n"
     ]
    }
   ],
   "source": [
    "x= \"-\"\n",
    "y= \" \"\n",
    "a = \"     a-b-C-d-E-F  \"\n",
    "b = \"a b c d e f\"\n",
    "# a= a.split(sep=x)\n",
    "# b= b.split(sep=y)\n",
    "\n",
    "a = a.strip().lower().replace('-',' ')\n",
    "\n",
    "\n",
    "\n",
    "print(\"a:\",a)\n",
    "print(\"b:\",b)"
   ]
  },
  {
   "cell_type": "code",
   "execution_count": 462,
   "metadata": {},
   "outputs": [],
   "source": [
    "# def normalize_date(date):\n",
    "#     return pd.to_datetime(date).strftime(\"%y-%m-%d\")\n",
    "    "
   ]
  },
  {
   "cell_type": "code",
   "execution_count": 446,
   "metadata": {},
   "outputs": [],
   "source": [
    "df_moron['inscription_date'] = df_moron['inscription_date'].apply(normalize_date)\n",
    "# df_moron['inscription_date'] = pd.to_datetime(df_moron['inscription_date'], format=\"%d/%Mon/%y\")\n",
    "# pd.to_datetime(df_moron['inscription_date']).strftime(\"%Y-%m-%d\")"
   ]
  },
  {
   "cell_type": "code",
   "execution_count": 447,
   "metadata": {},
   "outputs": [
    {
     "data": {
      "text/plain": [
       "0       2029-12-20\n",
       "1       2028-10-20\n",
       "2       2026-01-21\n",
       "3       2012-10-20\n",
       "4       2015-01-21\n",
       "           ...    \n",
       "1833    2024-01-21\n",
       "1834    2022-11-20\n",
       "1835    2015-09-20\n",
       "1836    2010-01-21\n",
       "1837    2021-09-20\n",
       "Name: inscription_date, Length: 1838, dtype: object"
      ]
     },
     "execution_count": 447,
     "metadata": {},
     "output_type": "execute_result"
    }
   ],
   "source": [
    "df_moron['inscription_date']"
   ]
  },
  {
   "cell_type": "code",
   "execution_count": 505,
   "metadata": {},
   "outputs": [],
   "source": [
    "from datetime import date, datetime\n",
    "from dateutil.relativedelta import relativedelta"
   ]
  },
  {
   "cell_type": "code",
   "execution_count": 623,
   "metadata": {},
   "outputs": [],
   "source": [
    "df_moron = pd.read_csv('data/Universidad-nacional-de-río-cuarto.csv')"
   ]
  },
  {
   "cell_type": "code",
   "execution_count": 553,
   "metadata": {},
   "outputs": [],
   "source": [
    "def normalize_date(date):\n",
    "    # return pd.to_datetime(date).strftime(\"%y-%m-%d\").date()\n",
    "    # return pd.to_datetime(date)\n",
    "    # return datetime.strptime(date, \"%w/%b/%y\").date()\n",
    "    return pd.to_datetime(date).strftime(\"%Y-%m-%d\")"
   ]
  },
  {
   "cell_type": "code",
   "execution_count": 545,
   "metadata": {},
   "outputs": [],
   "source": [
    "def normalize_age(age:date):\n",
    "    date = age.split(\"/\")\n",
    "    age = date[2] + '-' + date[1] + '-' + date[0]\n",
    "    return age\n",
    "    # return date.today() - age"
   ]
  },
  {
   "cell_type": "code",
   "execution_count": 512,
   "metadata": {},
   "outputs": [],
   "source": [
    "def normalize_age2(age:date):\n",
    "    age = relativedelta(pd.Timestamp.now(), date).years \n",
    "    return age if age > 0 else age + 100\n",
    "    # return date.today() - age"
   ]
  },
  {
   "cell_type": "code",
   "execution_count": 605,
   "metadata": {},
   "outputs": [],
   "source": [
    "def age(born):\n",
    "    born = datetime.strptime(born, \"%Y-%m-%d\").date()\n",
    "    today = date.today()\n",
    "    # return today - born\n",
    "    age = today.year - born.year - ((today.month, \n",
    "                                      today.day) < (born.month, \n",
    "                                                    born.day))\n",
    "    return age if age >= 0 else age + 100"
   ]
  },
  {
   "cell_type": "code",
   "execution_count": 624,
   "metadata": {},
   "outputs": [],
   "source": [
    "df_moron['age'] = df_moron['age'].apply(lambda x: x.replace('00','01'))\n",
    "df_moron['age'] = df_moron['age'].apply(normalize_age)"
   ]
  },
  {
   "cell_type": "code",
   "execution_count": 620,
   "metadata": {},
   "outputs": [],
   "source": [
    "df_moron['age'] = df_moron['age'].apply(normalize_date)"
   ]
  },
  {
   "cell_type": "code",
   "execution_count": 622,
   "metadata": {},
   "outputs": [],
   "source": [
    "df_moron['age'] = df_moron['age'].apply(age)"
   ]
  },
  {
   "cell_type": "code",
   "execution_count": 552,
   "metadata": {},
   "outputs": [],
   "source": [
    "# df_moron['age'] = df_moron['age'].apply(normalize_age2)"
   ]
  },
  {
   "cell_type": "code",
   "execution_count": 625,
   "metadata": {},
   "outputs": [
    {
     "data": {
      "text/html": [
       "<div>\n",
       "<style scoped>\n",
       "    .dataframe tbody tr th:only-of-type {\n",
       "        vertical-align: middle;\n",
       "    }\n",
       "\n",
       "    .dataframe tbody tr th {\n",
       "        vertical-align: top;\n",
       "    }\n",
       "\n",
       "    .dataframe thead th {\n",
       "        text-align: right;\n",
       "    }\n",
       "</style>\n",
       "<table border=\"1\" class=\"dataframe\">\n",
       "  <thead>\n",
       "    <tr style=\"text-align: right;\">\n",
       "      <th></th>\n",
       "      <th>university</th>\n",
       "      <th>career</th>\n",
       "      <th>inscription_date</th>\n",
       "      <th>first_name</th>\n",
       "      <th>gender</th>\n",
       "      <th>age</th>\n",
       "      <th>location</th>\n",
       "      <th>email</th>\n",
       "    </tr>\n",
       "  </thead>\n",
       "  <tbody>\n",
       "    <tr>\n",
       "      <th>0</th>\n",
       "      <td>Universidad-nacional-de-río-cuarto</td>\n",
       "      <td>Licenciatura-en-musicoterapia</td>\n",
       "      <td>20/Dec/29</td>\n",
       "      <td>Austin-norris</td>\n",
       "      <td>M</td>\n",
       "      <td>06-Sep-19</td>\n",
       "      <td>12-de-agosto</td>\n",
       "      <td>Amycurtis@hotmail.com</td>\n",
       "    </tr>\n",
       "    <tr>\n",
       "      <th>1</th>\n",
       "      <td>Universidad-nacional-de-río-cuarto</td>\n",
       "      <td>Farmacia</td>\n",
       "      <td>20/Oct/28</td>\n",
       "      <td>Tyler-owens</td>\n",
       "      <td>M</td>\n",
       "      <td>26-May-33</td>\n",
       "      <td>Matheu</td>\n",
       "      <td>Usmith@yahoo.com</td>\n",
       "    </tr>\n",
       "    <tr>\n",
       "      <th>2</th>\n",
       "      <td>Universidad-nacional-de-río-cuarto</td>\n",
       "      <td>Ingeniería-mecánica</td>\n",
       "      <td>21/Jan/26</td>\n",
       "      <td>Donna-hess</td>\n",
       "      <td>F</td>\n",
       "      <td>03-Apr-42</td>\n",
       "      <td>General-gutierrez</td>\n",
       "      <td>Angelrollins@gmail.com</td>\n",
       "    </tr>\n",
       "    <tr>\n",
       "      <th>3</th>\n",
       "      <td>Universidad-nacional-de-río-cuarto</td>\n",
       "      <td>Licenciatura-en-terapia-ocupacional</td>\n",
       "      <td>20/Oct/12</td>\n",
       "      <td>John-gonzales</td>\n",
       "      <td>M</td>\n",
       "      <td>01-Jan-06</td>\n",
       "      <td>Aconquija</td>\n",
       "      <td>Jamesho@yahoo.com</td>\n",
       "    </tr>\n",
       "    <tr>\n",
       "      <th>4</th>\n",
       "      <td>Universidad-nacional-de-río-cuarto</td>\n",
       "      <td>Ingeniería-en-informática</td>\n",
       "      <td>21/Jan/15</td>\n",
       "      <td>Michael-smith</td>\n",
       "      <td>M</td>\n",
       "      <td>07-Mar-95</td>\n",
       "      <td>Chelforo</td>\n",
       "      <td>Laura64@yahoo.com</td>\n",
       "    </tr>\n",
       "    <tr>\n",
       "      <th>...</th>\n",
       "      <td>...</td>\n",
       "      <td>...</td>\n",
       "      <td>...</td>\n",
       "      <td>...</td>\n",
       "      <td>...</td>\n",
       "      <td>...</td>\n",
       "      <td>...</td>\n",
       "      <td>...</td>\n",
       "    </tr>\n",
       "    <tr>\n",
       "      <th>1833</th>\n",
       "      <td>Universidad-nacional-de-río-cuarto</td>\n",
       "      <td>Licenciatura-en-ciencia-y-tecnología-de-alimentos</td>\n",
       "      <td>21/Jan/24</td>\n",
       "      <td>Erika-lee</td>\n",
       "      <td>F</td>\n",
       "      <td>03-Jul-88</td>\n",
       "      <td>Maori</td>\n",
       "      <td>Bennettanthony@yahoo.com</td>\n",
       "    </tr>\n",
       "    <tr>\n",
       "      <th>1834</th>\n",
       "      <td>Universidad-nacional-de-río-cuarto</td>\n",
       "      <td>Licenciatura-en-ciencias-ambientales</td>\n",
       "      <td>20/Nov/22</td>\n",
       "      <td>Adam-brown</td>\n",
       "      <td>M</td>\n",
       "      <td>31-Aug-07</td>\n",
       "      <td>Buena-vista</td>\n",
       "      <td>James12@hotmail.com</td>\n",
       "    </tr>\n",
       "    <tr>\n",
       "      <th>1835</th>\n",
       "      <td>Universidad-nacional-de-río-cuarto</td>\n",
       "      <td>Licenciatura-en-ciencia-política-</td>\n",
       "      <td>20/Sep/15</td>\n",
       "      <td>Willie-gordon</td>\n",
       "      <td>M</td>\n",
       "      <td>24-May-64</td>\n",
       "      <td>Bahia-langara</td>\n",
       "      <td>Adamskimberly@hotmail.com</td>\n",
       "    </tr>\n",
       "    <tr>\n",
       "      <th>1836</th>\n",
       "      <td>Universidad-nacional-de-río-cuarto</td>\n",
       "      <td>Licenciatura-en-ciencias-biológicas</td>\n",
       "      <td>21/Jan/10</td>\n",
       "      <td>Victoria-duran</td>\n",
       "      <td>F</td>\n",
       "      <td>05-Nov-11</td>\n",
       "      <td>Agustoni</td>\n",
       "      <td>Nicolehenderson@gmail.com</td>\n",
       "    </tr>\n",
       "    <tr>\n",
       "      <th>1837</th>\n",
       "      <td>Universidad-nacional-de-río-cuarto</td>\n",
       "      <td>Farmacia</td>\n",
       "      <td>20/Sep/21</td>\n",
       "      <td>Brad-vega</td>\n",
       "      <td>M</td>\n",
       "      <td>19-Jun-44</td>\n",
       "      <td>Monte-chingolo</td>\n",
       "      <td>Laurenkennedy@hotmail.com</td>\n",
       "    </tr>\n",
       "  </tbody>\n",
       "</table>\n",
       "<p>1838 rows × 8 columns</p>\n",
       "</div>"
      ],
      "text/plain": [
       "                              university  \\\n",
       "0     Universidad-nacional-de-río-cuarto   \n",
       "1     Universidad-nacional-de-río-cuarto   \n",
       "2     Universidad-nacional-de-río-cuarto   \n",
       "3     Universidad-nacional-de-río-cuarto   \n",
       "4     Universidad-nacional-de-río-cuarto   \n",
       "...                                  ...   \n",
       "1833  Universidad-nacional-de-río-cuarto   \n",
       "1834  Universidad-nacional-de-río-cuarto   \n",
       "1835  Universidad-nacional-de-río-cuarto   \n",
       "1836  Universidad-nacional-de-río-cuarto   \n",
       "1837  Universidad-nacional-de-río-cuarto   \n",
       "\n",
       "                                                 career inscription_date  \\\n",
       "0                         Licenciatura-en-musicoterapia        20/Dec/29   \n",
       "1                                              Farmacia        20/Oct/28   \n",
       "2                                   Ingeniería-mecánica        21/Jan/26   \n",
       "3                   Licenciatura-en-terapia-ocupacional        20/Oct/12   \n",
       "4                             Ingeniería-en-informática        21/Jan/15   \n",
       "...                                                 ...              ...   \n",
       "1833  Licenciatura-en-ciencia-y-tecnología-de-alimentos        21/Jan/24   \n",
       "1834               Licenciatura-en-ciencias-ambientales        20/Nov/22   \n",
       "1835                  Licenciatura-en-ciencia-política-        20/Sep/15   \n",
       "1836                Licenciatura-en-ciencias-biológicas        21/Jan/10   \n",
       "1837                                           Farmacia        20/Sep/21   \n",
       "\n",
       "          first_name gender        age           location  \\\n",
       "0      Austin-norris      M  06-Sep-19       12-de-agosto   \n",
       "1        Tyler-owens      M  26-May-33             Matheu   \n",
       "2         Donna-hess      F  03-Apr-42  General-gutierrez   \n",
       "3      John-gonzales      M  01-Jan-06          Aconquija   \n",
       "4      Michael-smith      M  07-Mar-95           Chelforo   \n",
       "...              ...    ...        ...                ...   \n",
       "1833       Erika-lee      F  03-Jul-88              Maori   \n",
       "1834      Adam-brown      M  31-Aug-07        Buena-vista   \n",
       "1835   Willie-gordon      M  24-May-64      Bahia-langara   \n",
       "1836  Victoria-duran      F  05-Nov-11           Agustoni   \n",
       "1837       Brad-vega      M  19-Jun-44     Monte-chingolo   \n",
       "\n",
       "                          email  \n",
       "0         Amycurtis@hotmail.com  \n",
       "1              Usmith@yahoo.com  \n",
       "2        Angelrollins@gmail.com  \n",
       "3             Jamesho@yahoo.com  \n",
       "4             Laura64@yahoo.com  \n",
       "...                         ...  \n",
       "1833   Bennettanthony@yahoo.com  \n",
       "1834        James12@hotmail.com  \n",
       "1835  Adamskimberly@hotmail.com  \n",
       "1836  Nicolehenderson@gmail.com  \n",
       "1837  Laurenkennedy@hotmail.com  \n",
       "\n",
       "[1838 rows x 8 columns]"
      ]
     },
     "execution_count": 625,
     "metadata": {},
     "output_type": "execute_result"
    }
   ],
   "source": [
    "df_moron#.sort_values(by='age')"
   ]
  }
 ],
 "metadata": {
  "kernelspec": {
   "display_name": "Python 3.10.3 64-bit",
   "language": "python",
   "name": "python3"
  },
  "language_info": {
   "codemirror_mode": {
    "name": "ipython",
    "version": 3
   },
   "file_extension": ".py",
   "mimetype": "text/x-python",
   "name": "python",
   "nbconvert_exporter": "python",
   "pygments_lexer": "ipython3",
   "version": "3.10.3"
  },
  "orig_nbformat": 4,
  "vscode": {
   "interpreter": {
    "hash": "369f2c481f4da34e4445cda3fffd2e751bd1c4d706f27375911949ba6bb62e1c"
   }
  }
 },
 "nbformat": 4,
 "nbformat_minor": 2
}
